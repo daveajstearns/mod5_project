{
 "cells": [
  {
   "cell_type": "code",
   "execution_count": 1,
   "metadata": {},
   "outputs": [],
   "source": [
    "from vaderSentiment.vaderSentiment import SentimentIntensityAnalyzer\n",
    "import matplotlib.pyplot as plt \n",
    "import pandas as pd\n",
    "pd.set_option('display.max_columns', None)\n",
    "import numpy as np\n",
    "import seaborn as sns\n",
    "%matplotlib inline\n",
    "from statsmodels.tsa.stattools import adfuller"
   ]
  },
  {
   "cell_type": "code",
   "execution_count": 2,
   "metadata": {},
   "outputs": [],
   "source": [
    "tweets = pd.read_csv('vfarms.csv')"
   ]
  },
  {
   "cell_type": "code",
   "execution_count": 4,
   "metadata": {},
   "outputs": [
    {
     "data": {
      "text/html": [
       "<div>\n",
       "<style scoped>\n",
       "    .dataframe tbody tr th:only-of-type {\n",
       "        vertical-align: middle;\n",
       "    }\n",
       "\n",
       "    .dataframe tbody tr th {\n",
       "        vertical-align: top;\n",
       "    }\n",
       "\n",
       "    .dataframe thead th {\n",
       "        text-align: right;\n",
       "    }\n",
       "</style>\n",
       "<table border=\"1\" class=\"dataframe\">\n",
       "  <thead>\n",
       "    <tr style=\"text-align: right;\">\n",
       "      <th></th>\n",
       "      <th>id</th>\n",
       "      <th>conversation_id</th>\n",
       "      <th>created_at</th>\n",
       "      <th>date</th>\n",
       "      <th>time</th>\n",
       "      <th>timezone</th>\n",
       "      <th>user_id</th>\n",
       "      <th>username</th>\n",
       "      <th>name</th>\n",
       "      <th>place</th>\n",
       "      <th>tweet</th>\n",
       "      <th>mentions</th>\n",
       "      <th>urls</th>\n",
       "      <th>photos</th>\n",
       "      <th>replies_count</th>\n",
       "      <th>retweets_count</th>\n",
       "      <th>likes_count</th>\n",
       "      <th>hashtags</th>\n",
       "      <th>cashtags</th>\n",
       "      <th>link</th>\n",
       "      <th>retweet</th>\n",
       "      <th>quote_url</th>\n",
       "      <th>video</th>\n",
       "      <th>near</th>\n",
       "      <th>geo</th>\n",
       "      <th>source</th>\n",
       "      <th>user_rt_id</th>\n",
       "      <th>user_rt</th>\n",
       "      <th>retweet_id</th>\n",
       "      <th>reply_to</th>\n",
       "      <th>retweet_date</th>\n",
       "      <th>translate</th>\n",
       "      <th>trans_src</th>\n",
       "      <th>trans_dest</th>\n",
       "    </tr>\n",
       "  </thead>\n",
       "  <tbody>\n",
       "    <tr>\n",
       "      <th>0</th>\n",
       "      <td>1260879852917440512</td>\n",
       "      <td>1260879852917440512</td>\n",
       "      <td>1589452157000</td>\n",
       "      <td>2020-05-14</td>\n",
       "      <td>06:29:17</td>\n",
       "      <td>EDT</td>\n",
       "      <td>1126761840678178816</td>\n",
       "      <td>sixteenthvenus</td>\n",
       "      <td>Ø</td>\n",
       "      <td>NaN</td>\n",
       "      <td>“i only have ugly pennies”\\n“show me your ant ...</td>\n",
       "      <td>[]</td>\n",
       "      <td>[]</td>\n",
       "      <td>[]</td>\n",
       "      <td>0</td>\n",
       "      <td>0</td>\n",
       "      <td>0</td>\n",
       "      <td>[]</td>\n",
       "      <td>[]</td>\n",
       "      <td>https://twitter.com/sixteenthvenus/status/1260...</td>\n",
       "      <td>False</td>\n",
       "      <td>NaN</td>\n",
       "      <td>0</td>\n",
       "      <td>NaN</td>\n",
       "      <td>NaN</td>\n",
       "      <td>NaN</td>\n",
       "      <td>NaN</td>\n",
       "      <td>NaN</td>\n",
       "      <td>NaN</td>\n",
       "      <td>[{'user_id': '1126761840678178816', 'username'...</td>\n",
       "      <td>NaN</td>\n",
       "      <td>NaN</td>\n",
       "      <td>NaN</td>\n",
       "      <td>NaN</td>\n",
       "    </tr>\n",
       "    <tr>\n",
       "      <th>1</th>\n",
       "      <td>1260878483799961602</td>\n",
       "      <td>1260692294870732800</td>\n",
       "      <td>1589451831000</td>\n",
       "      <td>2020-05-14</td>\n",
       "      <td>06:23:51</td>\n",
       "      <td>EDT</td>\n",
       "      <td>875727134089785351</td>\n",
       "      <td>toddcitron</td>\n",
       "      <td>Todd Alan Citron</td>\n",
       "      <td>NaN</td>\n",
       "      <td>No indoor plumbing yet?  Sounds like my Momma’...</td>\n",
       "      <td>['shaniatwain']</td>\n",
       "      <td>[]</td>\n",
       "      <td>[]</td>\n",
       "      <td>0</td>\n",
       "      <td>0</td>\n",
       "      <td>0</td>\n",
       "      <td>[]</td>\n",
       "      <td>[]</td>\n",
       "      <td>https://twitter.com/ToddCitron/status/12608784...</td>\n",
       "      <td>False</td>\n",
       "      <td>NaN</td>\n",
       "      <td>0</td>\n",
       "      <td>NaN</td>\n",
       "      <td>NaN</td>\n",
       "      <td>NaN</td>\n",
       "      <td>NaN</td>\n",
       "      <td>NaN</td>\n",
       "      <td>NaN</td>\n",
       "      <td>[{'user_id': '875727134089785351', 'username':...</td>\n",
       "      <td>NaN</td>\n",
       "      <td>NaN</td>\n",
       "      <td>NaN</td>\n",
       "      <td>NaN</td>\n",
       "    </tr>\n",
       "    <tr>\n",
       "      <th>2</th>\n",
       "      <td>1260868773202071554</td>\n",
       "      <td>1260839178432020480</td>\n",
       "      <td>1589449515000</td>\n",
       "      <td>2020-05-14</td>\n",
       "      <td>05:45:15</td>\n",
       "      <td>EDT</td>\n",
       "      <td>2561944748</td>\n",
       "      <td>defectinggrey</td>\n",
       "      <td>AmbrosiaCreamChapel</td>\n",
       "      <td>NaN</td>\n",
       "      <td>“But...”, someone shouts. “... indoor farms!” ...</td>\n",
       "      <td>['botanygeek']</td>\n",
       "      <td>[]</td>\n",
       "      <td>[]</td>\n",
       "      <td>0</td>\n",
       "      <td>0</td>\n",
       "      <td>0</td>\n",
       "      <td>[]</td>\n",
       "      <td>[]</td>\n",
       "      <td>https://twitter.com/DefectingGrey/status/12608...</td>\n",
       "      <td>False</td>\n",
       "      <td>NaN</td>\n",
       "      <td>0</td>\n",
       "      <td>NaN</td>\n",
       "      <td>NaN</td>\n",
       "      <td>NaN</td>\n",
       "      <td>NaN</td>\n",
       "      <td>NaN</td>\n",
       "      <td>NaN</td>\n",
       "      <td>[{'user_id': '2561944748', 'username': 'Defect...</td>\n",
       "      <td>NaN</td>\n",
       "      <td>NaN</td>\n",
       "      <td>NaN</td>\n",
       "      <td>NaN</td>\n",
       "    </tr>\n",
       "    <tr>\n",
       "      <th>3</th>\n",
       "      <td>1260829270907158529</td>\n",
       "      <td>1260829270907158529</td>\n",
       "      <td>1589440097000</td>\n",
       "      <td>2020-05-14</td>\n",
       "      <td>03:08:17</td>\n",
       "      <td>EDT</td>\n",
       "      <td>821748775127552001</td>\n",
       "      <td>ganja_seeds</td>\n",
       "      <td>#Cannabis seeds worldwide</td>\n",
       "      <td>NaN</td>\n",
       "      <td>Learn how to grow weed &gt;&gt;  http://www.howtogro...</td>\n",
       "      <td>[]</td>\n",
       "      <td>['http://www.howtogrowweed420.com/3103.html', ...</td>\n",
       "      <td>[]</td>\n",
       "      <td>0</td>\n",
       "      <td>0</td>\n",
       "      <td>0</td>\n",
       "      <td>[]</td>\n",
       "      <td>[]</td>\n",
       "      <td>https://twitter.com/ganja_seeds/status/1260829...</td>\n",
       "      <td>False</td>\n",
       "      <td>NaN</td>\n",
       "      <td>0</td>\n",
       "      <td>NaN</td>\n",
       "      <td>NaN</td>\n",
       "      <td>NaN</td>\n",
       "      <td>NaN</td>\n",
       "      <td>NaN</td>\n",
       "      <td>NaN</td>\n",
       "      <td>[{'user_id': '821748775127552001', 'username':...</td>\n",
       "      <td>NaN</td>\n",
       "      <td>NaN</td>\n",
       "      <td>NaN</td>\n",
       "      <td>NaN</td>\n",
       "    </tr>\n",
       "    <tr>\n",
       "      <th>4</th>\n",
       "      <td>1260805936748408833</td>\n",
       "      <td>1255254212243525635</td>\n",
       "      <td>1589434534000</td>\n",
       "      <td>2020-05-14</td>\n",
       "      <td>01:35:34</td>\n",
       "      <td>EDT</td>\n",
       "      <td>1027244220128608256</td>\n",
       "      <td>morty_lin</td>\n",
       "      <td>M Æ R-3</td>\n",
       "      <td>NaN</td>\n",
       "      <td>For me it's partly due to having more time to ...</td>\n",
       "      <td>['magdalenakala']</td>\n",
       "      <td>[]</td>\n",
       "      <td>[]</td>\n",
       "      <td>0</td>\n",
       "      <td>0</td>\n",
       "      <td>0</td>\n",
       "      <td>[]</td>\n",
       "      <td>[]</td>\n",
       "      <td>https://twitter.com/morty_lin/status/126080593...</td>\n",
       "      <td>False</td>\n",
       "      <td>NaN</td>\n",
       "      <td>0</td>\n",
       "      <td>NaN</td>\n",
       "      <td>NaN</td>\n",
       "      <td>NaN</td>\n",
       "      <td>NaN</td>\n",
       "      <td>NaN</td>\n",
       "      <td>NaN</td>\n",
       "      <td>[{'user_id': '1027244220128608256', 'username'...</td>\n",
       "      <td>NaN</td>\n",
       "      <td>NaN</td>\n",
       "      <td>NaN</td>\n",
       "      <td>NaN</td>\n",
       "    </tr>\n",
       "  </tbody>\n",
       "</table>\n",
       "</div>"
      ],
      "text/plain": [
       "                    id      conversation_id     created_at        date  \\\n",
       "0  1260879852917440512  1260879852917440512  1589452157000  2020-05-14   \n",
       "1  1260878483799961602  1260692294870732800  1589451831000  2020-05-14   \n",
       "2  1260868773202071554  1260839178432020480  1589449515000  2020-05-14   \n",
       "3  1260829270907158529  1260829270907158529  1589440097000  2020-05-14   \n",
       "4  1260805936748408833  1255254212243525635  1589434534000  2020-05-14   \n",
       "\n",
       "       time timezone              user_id        username  \\\n",
       "0  06:29:17      EDT  1126761840678178816  sixteenthvenus   \n",
       "1  06:23:51      EDT   875727134089785351      toddcitron   \n",
       "2  05:45:15      EDT           2561944748   defectinggrey   \n",
       "3  03:08:17      EDT   821748775127552001     ganja_seeds   \n",
       "4  01:35:34      EDT  1027244220128608256       morty_lin   \n",
       "\n",
       "                        name place  \\\n",
       "0                          Ø   NaN   \n",
       "1           Todd Alan Citron   NaN   \n",
       "2        AmbrosiaCreamChapel   NaN   \n",
       "3  #Cannabis seeds worldwide   NaN   \n",
       "4                    M Æ R-3   NaN   \n",
       "\n",
       "                                               tweet           mentions  \\\n",
       "0  “i only have ugly pennies”\\n“show me your ant ...                 []   \n",
       "1  No indoor plumbing yet?  Sounds like my Momma’...    ['shaniatwain']   \n",
       "2  “But...”, someone shouts. “... indoor farms!” ...     ['botanygeek']   \n",
       "3  Learn how to grow weed >>  http://www.howtogro...                 []   \n",
       "4  For me it's partly due to having more time to ...  ['magdalenakala']   \n",
       "\n",
       "                                                urls photos  replies_count  \\\n",
       "0                                                 []     []              0   \n",
       "1                                                 []     []              0   \n",
       "2                                                 []     []              0   \n",
       "3  ['http://www.howtogrowweed420.com/3103.html', ...     []              0   \n",
       "4                                                 []     []              0   \n",
       "\n",
       "   retweets_count  likes_count hashtags cashtags  \\\n",
       "0               0            0       []       []   \n",
       "1               0            0       []       []   \n",
       "2               0            0       []       []   \n",
       "3               0            0       []       []   \n",
       "4               0            0       []       []   \n",
       "\n",
       "                                                link  retweet quote_url  \\\n",
       "0  https://twitter.com/sixteenthvenus/status/1260...    False       NaN   \n",
       "1  https://twitter.com/ToddCitron/status/12608784...    False       NaN   \n",
       "2  https://twitter.com/DefectingGrey/status/12608...    False       NaN   \n",
       "3  https://twitter.com/ganja_seeds/status/1260829...    False       NaN   \n",
       "4  https://twitter.com/morty_lin/status/126080593...    False       NaN   \n",
       "\n",
       "   video  near  geo  source  user_rt_id  user_rt  retweet_id  \\\n",
       "0      0   NaN  NaN     NaN         NaN      NaN         NaN   \n",
       "1      0   NaN  NaN     NaN         NaN      NaN         NaN   \n",
       "2      0   NaN  NaN     NaN         NaN      NaN         NaN   \n",
       "3      0   NaN  NaN     NaN         NaN      NaN         NaN   \n",
       "4      0   NaN  NaN     NaN         NaN      NaN         NaN   \n",
       "\n",
       "                                            reply_to  retweet_date  translate  \\\n",
       "0  [{'user_id': '1126761840678178816', 'username'...           NaN        NaN   \n",
       "1  [{'user_id': '875727134089785351', 'username':...           NaN        NaN   \n",
       "2  [{'user_id': '2561944748', 'username': 'Defect...           NaN        NaN   \n",
       "3  [{'user_id': '821748775127552001', 'username':...           NaN        NaN   \n",
       "4  [{'user_id': '1027244220128608256', 'username'...           NaN        NaN   \n",
       "\n",
       "   trans_src  trans_dest  \n",
       "0        NaN         NaN  \n",
       "1        NaN         NaN  \n",
       "2        NaN         NaN  \n",
       "3        NaN         NaN  \n",
       "4        NaN         NaN  "
      ]
     },
     "execution_count": 4,
     "metadata": {},
     "output_type": "execute_result"
    }
   ],
   "source": [
    "tweets.head()"
   ]
  },
  {
   "cell_type": "code",
   "execution_count": 5,
   "metadata": {},
   "outputs": [],
   "source": [
    "tweets['date'] = pd.to_datetime(tweets['date'])"
   ]
  },
  {
   "cell_type": "code",
   "execution_count": 6,
   "metadata": {},
   "outputs": [],
   "source": [
    "tweets.set_index('date', inplace=True)"
   ]
  },
  {
   "cell_type": "code",
   "execution_count": 7,
   "metadata": {},
   "outputs": [],
   "source": [
    "just_tweets = tweets[['tweet']]"
   ]
  },
  {
   "cell_type": "code",
   "execution_count": 9,
   "metadata": {
    "scrolled": true
   },
   "outputs": [
    {
     "data": {
      "text/html": [
       "<div>\n",
       "<style scoped>\n",
       "    .dataframe tbody tr th:only-of-type {\n",
       "        vertical-align: middle;\n",
       "    }\n",
       "\n",
       "    .dataframe tbody tr th {\n",
       "        vertical-align: top;\n",
       "    }\n",
       "\n",
       "    .dataframe thead th {\n",
       "        text-align: right;\n",
       "    }\n",
       "</style>\n",
       "<table border=\"1\" class=\"dataframe\">\n",
       "  <thead>\n",
       "    <tr style=\"text-align: right;\">\n",
       "      <th></th>\n",
       "      <th>tweet</th>\n",
       "    </tr>\n",
       "    <tr>\n",
       "      <th>date</th>\n",
       "      <th></th>\n",
       "    </tr>\n",
       "  </thead>\n",
       "  <tbody>\n",
       "    <tr>\n",
       "      <th>2020-05-14</th>\n",
       "      <td>“i only have ugly pennies”\\n“show me your ant ...</td>\n",
       "    </tr>\n",
       "    <tr>\n",
       "      <th>2020-05-14</th>\n",
       "      <td>No indoor plumbing yet?  Sounds like my Momma’...</td>\n",
       "    </tr>\n",
       "    <tr>\n",
       "      <th>2020-05-14</th>\n",
       "      <td>“But...”, someone shouts. “... indoor farms!” ...</td>\n",
       "    </tr>\n",
       "    <tr>\n",
       "      <th>2020-05-14</th>\n",
       "      <td>Learn how to grow weed &gt;&gt;  http://www.howtogro...</td>\n",
       "    </tr>\n",
       "    <tr>\n",
       "      <th>2020-05-14</th>\n",
       "      <td>For me it's partly due to having more time to ...</td>\n",
       "    </tr>\n",
       "  </tbody>\n",
       "</table>\n",
       "</div>"
      ],
      "text/plain": [
       "                                                        tweet\n",
       "date                                                         \n",
       "2020-05-14  “i only have ugly pennies”\\n“show me your ant ...\n",
       "2020-05-14  No indoor plumbing yet?  Sounds like my Momma’...\n",
       "2020-05-14  “But...”, someone shouts. “... indoor farms!” ...\n",
       "2020-05-14  Learn how to grow weed >>  http://www.howtogro...\n",
       "2020-05-14  For me it's partly due to having more time to ..."
      ]
     },
     "execution_count": 9,
     "metadata": {},
     "output_type": "execute_result"
    }
   ],
   "source": [
    "just_tweets.head()"
   ]
  },
  {
   "cell_type": "markdown",
   "metadata": {},
   "source": [
    "Commenting out this cell below. I used it at a test for the `VADER` analyzer.   \n",
    "  \n",
    "One thing I am trying to still understand about this is the last line of code, with the `{:-<65}`... "
   ]
  },
  {
   "cell_type": "code",
   "execution_count": 12,
   "metadata": {},
   "outputs": [],
   "source": [
    "analyzer = SentimentIntensityAnalyzer()\n",
    "# for tweet in just_tweets['tweet']:\n",
    "#     vs = analyzer.polarity_scores(tweet)\n",
    "#     print(\"{:-<65} {}\".format(tweet, str(vs)))"
   ]
  },
  {
   "cell_type": "markdown",
   "metadata": {},
   "source": [
    "Not very pleased with how that worked out. Not really sure how it worked. Need to look into how to refine this thing."
   ]
  },
  {
   "cell_type": "code",
   "execution_count": 13,
   "metadata": {},
   "outputs": [],
   "source": [
    "scores = [analyzer.polarity_scores(tweet)['compound'] for tweet in just_tweets['tweet']]"
   ]
  },
  {
   "cell_type": "code",
   "execution_count": 14,
   "metadata": {},
   "outputs": [
    {
     "data": {
      "text/plain": [
       "(array([  39.,   38.,   43.,  114.,   76.,   96.,  118.,  126.,   95.,\n",
       "        2124.,  106.,  424.,  409.,  496.,  495.,  412.,  657.,  513.,\n",
       "         508.,  294.]),\n",
       " array([-0.9691 , -0.87134, -0.77358, -0.67582, -0.57806, -0.4803 ,\n",
       "        -0.38254, -0.28478, -0.18702, -0.08926,  0.0085 ,  0.10626,\n",
       "         0.20402,  0.30178,  0.39954,  0.4973 ,  0.59506,  0.69282,\n",
       "         0.79058,  0.88834,  0.9861 ]),\n",
       " <a list of 20 Patch objects>)"
      ]
     },
     "execution_count": 14,
     "metadata": {},
     "output_type": "execute_result"
    },
    {
     "data": {
      "image/png": "[encoded data removed]",
      "text/plain": [
       "<Figure size 432x288 with 1 Axes>"
      ]
     },
     "metadata": {
      "needs_background": "light"
     },
     "output_type": "display_data"
    }
   ],
   "source": [
    "plt.hist(scores, bins=20)"
   ]
  },
  {
   "cell_type": "markdown",
   "metadata": {},
   "source": [
    "My original hypothesis was that people who are talking about indoor farming were excited about it, with very few being against it. It is a niche. Not much reason to talk about it if you're not enthusiastic about it."
   ]
  },
  {
   "cell_type": "code",
   "execution_count": 15,
   "metadata": {
    "scrolled": true
   },
   "outputs": [
    {
     "data": {
      "text/plain": [
       "False    6581\n",
       "True      602\n",
       "Name: tweet, dtype: int64"
      ]
     },
     "execution_count": 15,
     "metadata": {},
     "output_type": "execute_result"
    }
   ],
   "source": [
    "just_tweets['tweet'].str.contains('vertical farm', regex=False).value_counts()"
   ]
  },
  {
   "cell_type": "markdown",
   "metadata": {},
   "source": [
    "This tells me that this particular data set mostly doesn't hold the exact term `vertical farm`, but there are 602 that do. This is important. I could, in the end, compile a full list of tweets that are exactly related to the topic."
   ]
  },
  {
   "cell_type": "code",
   "execution_count": 16,
   "metadata": {},
   "outputs": [
    {
     "name": "stderr",
     "output_type": "stream",
     "text": [
      "/opt/anaconda3/lib/python3.7/site-packages/ipykernel_launcher.py:1: SettingWithCopyWarning: \n",
      "A value is trying to be set on a copy of a slice from a DataFrame.\n",
      "Try using .loc[row_indexer,col_indexer] = value instead\n",
      "\n",
      "See the caveats in the documentation: https://pandas.pydata.org/pandas-docs/stable/user_guide/indexing.html#returning-a-view-versus-a-copy\n",
      "  \"\"\"Entry point for launching an IPython kernel.\n"
     ]
    }
   ],
   "source": [
    "just_tweets['sentiment'] = scores"
   ]
  },
  {
   "cell_type": "markdown",
   "metadata": {},
   "source": [
    "positive sentiment: compound score >= 0.05  \n",
    "\n",
    "neutral sentiment: (compound score > -0.05) and (compound score < 0.05)  \n",
    "\n",
    "negative sentiment: compound score <= -0.05  \n",
    "  \n",
    "https://github.com/cjhutto/vaderSentiment#about-the-scoring"
   ]
  },
  {
   "cell_type": "code",
   "execution_count": 18,
   "metadata": {},
   "outputs": [
    {
     "name": "stderr",
     "output_type": "stream",
     "text": [
      "/opt/anaconda3/lib/python3.7/site-packages/ipykernel_launcher.py:2: SettingWithCopyWarning: \n",
      "A value is trying to be set on a copy of a slice from a DataFrame.\n",
      "Try using .loc[row_indexer,col_indexer] = value instead\n",
      "\n",
      "See the caveats in the documentation: https://pandas.pydata.org/pandas-docs/stable/user_guide/indexing.html#returning-a-view-versus-a-copy\n",
      "  \n"
     ]
    }
   ],
   "source": [
    "# Categorizing the sentiment scores based on VADER's specifications\n",
    "just_tweets['score'] = pd.cut(just_tweets.sentiment,bins=[-1,-0.051,0.049,1],labels=['negative','neutral','positive'])"
   ]
  },
  {
   "cell_type": "code",
   "execution_count": 20,
   "metadata": {},
   "outputs": [
    {
     "data": {
      "text/html": [
       "<div>\n",
       "<style scoped>\n",
       "    .dataframe tbody tr th:only-of-type {\n",
       "        vertical-align: middle;\n",
       "    }\n",
       "\n",
       "    .dataframe tbody tr th {\n",
       "        vertical-align: top;\n",
       "    }\n",
       "\n",
       "    .dataframe thead th {\n",
       "        text-align: right;\n",
       "    }\n",
       "</style>\n",
       "<table border=\"1\" class=\"dataframe\">\n",
       "  <thead>\n",
       "    <tr style=\"text-align: right;\">\n",
       "      <th></th>\n",
       "      <th>tweet</th>\n",
       "      <th>sentiment</th>\n",
       "      <th>score</th>\n",
       "    </tr>\n",
       "    <tr>\n",
       "      <th>date</th>\n",
       "      <th></th>\n",
       "      <th></th>\n",
       "      <th></th>\n",
       "    </tr>\n",
       "  </thead>\n",
       "  <tbody>\n",
       "    <tr>\n",
       "      <th>2020-05-14</th>\n",
       "      <td>“i only have ugly pennies”\\n“show me your ant ...</td>\n",
       "      <td>-0.7345</td>\n",
       "      <td>negative</td>\n",
       "    </tr>\n",
       "    <tr>\n",
       "      <th>2020-05-14</th>\n",
       "      <td>No indoor plumbing yet?  Sounds like my Momma’...</td>\n",
       "      <td>0.8999</td>\n",
       "      <td>positive</td>\n",
       "    </tr>\n",
       "    <tr>\n",
       "      <th>2020-05-14</th>\n",
       "      <td>“But...”, someone shouts. “... indoor farms!” ...</td>\n",
       "      <td>0.5093</td>\n",
       "      <td>positive</td>\n",
       "    </tr>\n",
       "    <tr>\n",
       "      <th>2020-05-14</th>\n",
       "      <td>Learn how to grow weed &gt;&gt;  http://www.howtogro...</td>\n",
       "      <td>0.5994</td>\n",
       "      <td>positive</td>\n",
       "    </tr>\n",
       "    <tr>\n",
       "      <th>2020-05-14</th>\n",
       "      <td>For me it's partly due to having more time to ...</td>\n",
       "      <td>0.0000</td>\n",
       "      <td>neutral</td>\n",
       "    </tr>\n",
       "  </tbody>\n",
       "</table>\n",
       "</div>"
      ],
      "text/plain": [
       "                                                        tweet  sentiment  \\\n",
       "date                                                                       \n",
       "2020-05-14  “i only have ugly pennies”\\n“show me your ant ...    -0.7345   \n",
       "2020-05-14  No indoor plumbing yet?  Sounds like my Momma’...     0.8999   \n",
       "2020-05-14  “But...”, someone shouts. “... indoor farms!” ...     0.5093   \n",
       "2020-05-14  Learn how to grow weed >>  http://www.howtogro...     0.5994   \n",
       "2020-05-14  For me it's partly due to having more time to ...     0.0000   \n",
       "\n",
       "               score  \n",
       "date                  \n",
       "2020-05-14  negative  \n",
       "2020-05-14  positive  \n",
       "2020-05-14  positive  \n",
       "2020-05-14  positive  \n",
       "2020-05-14   neutral  "
      ]
     },
     "execution_count": 20,
     "metadata": {},
     "output_type": "execute_result"
    }
   ],
   "source": [
    "just_tweets.head()"
   ]
  },
  {
   "cell_type": "code",
   "execution_count": 21,
   "metadata": {},
   "outputs": [
    {
     "data": {
      "text/plain": [
       "<Figure size 432x288 with 0 Axes>"
      ]
     },
     "metadata": {},
     "output_type": "display_data"
    }
   ],
   "source": [
    "%run -i 'mod5_functions.py'"
   ]
  },
  {
   "cell_type": "code",
   "execution_count": 22,
   "metadata": {
    "scrolled": true
   },
   "outputs": [
    {
     "data": {
      "image/png": "[encoded data removed]",
      "text/plain": [
       "<Figure size 1008x576 with 1 Axes>"
      ]
     },
     "metadata": {
      "needs_background": "light"
     },
     "output_type": "display_data"
    }
   ],
   "source": [
    "make_value_chart(just_tweets, 'score', 'SENTIMENT RATING', 'NUMBER', 'DISTRIBUTION OF SENTIMENT')"
   ]
  },
  {
   "cell_type": "markdown",
   "metadata": {},
   "source": [
    "Going to perform an ANOVA"
   ]
  },
  {
   "cell_type": "code",
   "execution_count": 23,
   "metadata": {},
   "outputs": [],
   "source": [
    "import statsmodels.api as sm\n",
    "from statsmodels.formula.api import ols"
   ]
  },
  {
   "cell_type": "markdown",
   "metadata": {},
   "source": [
    "Will need to make a count of how many tweets are negative, positive, and neutral... maybe Chi-Squared instead?"
   ]
  },
  {
   "cell_type": "code",
   "execution_count": null,
   "metadata": {},
   "outputs": [],
   "source": []
  },
  {
   "cell_type": "code",
   "execution_count": null,
   "metadata": {},
   "outputs": [],
   "source": []
  },
  {
   "cell_type": "markdown",
   "metadata": {},
   "source": [
    "Can run statistical tests to confirm the amounts are statistically significantly different."
   ]
  },
  {
   "cell_type": "code",
   "execution_count": 28,
   "metadata": {},
   "outputs": [
    {
     "data": {
      "text/plain": [
       "<matplotlib.axes._subplots.AxesSubplot at 0x12540e950>"
      ]
     },
     "execution_count": 28,
     "metadata": {},
     "output_type": "execute_result"
    },
    {
     "data": {
      "image/png": "[encoded data removed]",
      "text/plain": [
       "<Figure size 432x288 with 1 Axes>"
      ]
     },
     "metadata": {
      "needs_background": "light"
     },
     "output_type": "display_data"
    }
   ],
   "source": [
    "just_tweets.resample('D').mean().plot()"
   ]
  },
  {
   "cell_type": "markdown",
   "metadata": {},
   "source": [
    "That was a good run. That particular dataset isn't long enough, doesn't go far back enough."
   ]
  },
  {
   "cell_type": "code",
   "execution_count": 29,
   "metadata": {},
   "outputs": [],
   "source": [
    "mas_twits = pd.read_csv('old_tweets.csv')"
   ]
  },
  {
   "cell_type": "code",
   "execution_count": 30,
   "metadata": {},
   "outputs": [
    {
     "name": "stderr",
     "output_type": "stream",
     "text": [
      "mod5_functions.py:269: SettingWithCopyWarning: \n",
      "A value is trying to be set on a copy of a slice from a DataFrame.\n",
      "Try using .loc[row_indexer,col_indexer] = value instead\n",
      "\n",
      "See the caveats in the documentation: https://pandas.pydata.org/pandas-docs/stable/user_guide/indexing.html#returning-a-view-versus-a-copy\n",
      "  data['sentiment'] = scores\n",
      "mod5_functions.py:272: SettingWithCopyWarning: \n",
      "A value is trying to be set on a copy of a slice from a DataFrame.\n",
      "Try using .loc[row_indexer,col_indexer] = value instead\n",
      "\n",
      "See the caveats in the documentation: https://pandas.pydata.org/pandas-docs/stable/user_guide/indexing.html#returning-a-view-versus-a-copy\n",
      "  labels=['negative','neutral','positive'])\n"
     ]
    }
   ],
   "source": [
    "mas = vader_process(mas_twits)"
   ]
  },
  {
   "cell_type": "code",
   "execution_count": 32,
   "metadata": {},
   "outputs": [
    {
     "data": {
      "text/html": [
       "<div>\n",
       "<style scoped>\n",
       "    .dataframe tbody tr th:only-of-type {\n",
       "        vertical-align: middle;\n",
       "    }\n",
       "\n",
       "    .dataframe tbody tr th {\n",
       "        vertical-align: top;\n",
       "    }\n",
       "\n",
       "    .dataframe thead th {\n",
       "        text-align: right;\n",
       "    }\n",
       "</style>\n",
       "<table border=\"1\" class=\"dataframe\">\n",
       "  <thead>\n",
       "    <tr style=\"text-align: right;\">\n",
       "      <th></th>\n",
       "      <th>tweet</th>\n",
       "      <th>sentiment</th>\n",
       "      <th>score</th>\n",
       "    </tr>\n",
       "    <tr>\n",
       "      <th>date</th>\n",
       "      <th></th>\n",
       "      <th></th>\n",
       "      <th></th>\n",
       "    </tr>\n",
       "  </thead>\n",
       "  <tbody>\n",
       "    <tr>\n",
       "      <th>2020-05-13</th>\n",
       "      <td>There are over 50 urban farms in the metro Atl...</td>\n",
       "      <td>0.7840</td>\n",
       "      <td>positive</td>\n",
       "    </tr>\n",
       "    <tr>\n",
       "      <th>2020-05-13</th>\n",
       "      <td>Urban farms, now we're talkin'!  https://twitt...</td>\n",
       "      <td>0.0000</td>\n",
       "      <td>neutral</td>\n",
       "    </tr>\n",
       "    <tr>\n",
       "      <th>2020-05-13</th>\n",
       "      <td>Urban agriculture of some sort...I think we’re...</td>\n",
       "      <td>0.0000</td>\n",
       "      <td>neutral</td>\n",
       "    </tr>\n",
       "    <tr>\n",
       "      <th>2020-05-13</th>\n",
       "      <td>Reporting in #COVID19 times has meant intervie...</td>\n",
       "      <td>0.0258</td>\n",
       "      <td>neutral</td>\n",
       "    </tr>\n",
       "    <tr>\n",
       "      <th>2020-05-13</th>\n",
       "      <td>Food wins out over cars in #Singapore - Nine m...</td>\n",
       "      <td>0.5719</td>\n",
       "      <td>positive</td>\n",
       "    </tr>\n",
       "  </tbody>\n",
       "</table>\n",
       "</div>"
      ],
      "text/plain": [
       "                                                        tweet  sentiment  \\\n",
       "date                                                                       \n",
       "2020-05-13  There are over 50 urban farms in the metro Atl...     0.7840   \n",
       "2020-05-13  Urban farms, now we're talkin'!  https://twitt...     0.0000   \n",
       "2020-05-13  Urban agriculture of some sort...I think we’re...     0.0000   \n",
       "2020-05-13  Reporting in #COVID19 times has meant intervie...     0.0258   \n",
       "2020-05-13  Food wins out over cars in #Singapore - Nine m...     0.5719   \n",
       "\n",
       "               score  \n",
       "date                  \n",
       "2020-05-13  positive  \n",
       "2020-05-13   neutral  \n",
       "2020-05-13   neutral  \n",
       "2020-05-13   neutral  \n",
       "2020-05-13  positive  "
      ]
     },
     "execution_count": 32,
     "metadata": {},
     "output_type": "execute_result"
    }
   ],
   "source": [
    "mas.head()"
   ]
  },
  {
   "cell_type": "code",
   "execution_count": 33,
   "metadata": {},
   "outputs": [
    {
     "data": {
      "text/plain": [
       "<matplotlib.axes._subplots.AxesSubplot at 0x131670b10>"
      ]
     },
     "execution_count": 33,
     "metadata": {},
     "output_type": "execute_result"
    },
    {
     "data": {
      "image/png": "[encoded data removed]",
      "text/plain": [
       "<Figure size 432x288 with 1 Axes>"
      ]
     },
     "metadata": {
      "needs_background": "light"
     },
     "output_type": "display_data"
    }
   ],
   "source": [
    "mas['2019-12-31':].resample('Q').sum().plot()"
   ]
  },
  {
   "cell_type": "markdown",
   "metadata": {},
   "source": [
    "How much cleaning do I need to do for VADER analysis? Seems to work fine, and not much documentation on how to clean. Since VADER was made specifically to analyze social media blurbs with built in processing for certain punctuation and emojis, it seems that cleaning is not necessary. Maybe removing usernames and other irrelevant info would be good, though.."
   ]
  },
  {
   "cell_type": "code",
   "execution_count": 34,
   "metadata": {},
   "outputs": [],
   "source": [
    "urban_farms = mas.copy()"
   ]
  },
  {
   "cell_type": "code",
   "execution_count": 35,
   "metadata": {},
   "outputs": [
    {
     "data": {
      "text/plain": [
       "'There are over 50 urban farms in the metro Atlanta area and plenty of ways you can support their valuable efforts. Here are our top 3! \\n\\n1. Shop at your local farmers market. 🧑\\u200d🌾\\n2. Buy local produce online. 🥬\\n3.…  https://www.instagram.com/p/CAJS-LTJ3zi/?igshid=1jizb8ie2p4mc\\xa0…'"
      ]
     },
     "execution_count": 35,
     "metadata": {},
     "output_type": "execute_result"
    }
   ],
   "source": [
    "urban_farms['tweet'][0]"
   ]
  },
  {
   "cell_type": "code",
   "execution_count": 51,
   "metadata": {},
   "outputs": [],
   "source": [
    "import re"
   ]
  },
  {
   "cell_type": "code",
   "execution_count": 43,
   "metadata": {},
   "outputs": [],
   "source": [
    "clean_tweets = []\n",
    "for tweet in urban_farms['tweet']:\n",
    "    clean_tweets.append(re.sub(r\"http\\S+\", \"\", tweet))\n"
   ]
  },
  {
   "cell_type": "code",
   "execution_count": 46,
   "metadata": {},
   "outputs": [],
   "source": [
    "more_cleam = []\n",
    "for tweet in clean_tweets:\n",
    "    more_cleam.append(re.sub(r\"pic.\",\"\", tweet))"
   ]
  },
  {
   "cell_type": "code",
   "execution_count": 49,
   "metadata": {},
   "outputs": [
    {
     "data": {
      "text/plain": [
       "8194"
      ]
     },
     "execution_count": 49,
     "metadata": {},
     "output_type": "execute_result"
    }
   ],
   "source": [
    "len(clean_tweets)"
   ]
  },
  {
   "cell_type": "code",
   "execution_count": 50,
   "metadata": {},
   "outputs": [
    {
     "data": {
      "text/plain": [
       "8194"
      ]
     },
     "execution_count": 50,
     "metadata": {},
     "output_type": "execute_result"
    }
   ],
   "source": [
    "len(more_cleam)"
   ]
  },
  {
   "cell_type": "code",
   "execution_count": null,
   "metadata": {},
   "outputs": [],
   "source": []
  }
 ],
 "metadata": {
  "kernelspec": {
   "display_name": "Python 3",
   "language": "python",
   "name": "python3"
  },
  "language_info": {
   "codemirror_mode": {
    "name": "ipython",
    "version": 3
   },
   "file_extension": ".py",
   "mimetype": "text/x-python",
   "name": "python",
   "nbconvert_exporter": "python",
   "pygments_lexer": "ipython3",
   "version": "3.7.4"
  }
 },
 "nbformat": 4,
 "nbformat_minor": 2
}
