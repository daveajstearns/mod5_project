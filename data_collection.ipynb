{
 "cells": [
  {
   "cell_type": "code",
   "execution_count": 161,
   "metadata": {},
   "outputs": [],
   "source": [
    "import pandas as pd\n",
    "import twint\n",
    "from pytrends.request import TrendReq\n",
    "pytrends = TrendReq(backoff_factor=0.5)\n",
    "%run -i 'functions2.py'\n",
    "import matplotlib.pyplot as plt\n",
    "%matplotlib inline\n",
    "pd.set_option('display.max_columns', None)\n",
    "import seaborn as sns\n",
    "import numpy as np\n",
    "from statsmodels.tsa.stattools import adfuller\n",
    "sns.set(style=\"whitegrid\", color_codes=True)\n",
    "from statsmodels.tsa.stattools import acf, pacf\n",
    "from statsmodels.graphics.tsaplots import plot_acf, plot_pacf"
   ]
  },
  {
   "cell_type": "markdown",
   "metadata": {},
   "source": [
    "### The time format is in UTC for GT  \n",
    "Something to think about as you review the trends, and might want to aggregate the different timezones in the US to a central zone... maybe CT."
   ]
  },
  {
   "cell_type": "markdown",
   "metadata": {},
   "source": [
    "The score given by the data is actually a relative score that, in order to be used as a metric of popularity, needs to be scaled."
   ]
  },
  {
   "cell_type": "code",
   "execution_count": 40,
   "metadata": {},
   "outputs": [],
   "source": [
    "# Some scraped tweets\n",
    "tweets = pd.read_csv('tweets2.csv')\n",
    "more_tweets = pd.read_csv('old_tweets.csv')"
   ]
  },
  {
   "cell_type": "code",
   "execution_count": 41,
   "metadata": {},
   "outputs": [],
   "source": [
    "history = tweets.copy()\n",
    "history = history[['date', 'tweet']]\n",
    "more_history = more_tweets.copy()\n",
    "more_history = more_history[['date','tweet']]"
   ]
  },
  {
   "cell_type": "code",
   "execution_count": 10,
   "metadata": {
    "scrolled": false
   },
   "outputs": [
    {
     "name": "stdout",
     "output_type": "stream",
     "text": [
      "(4820, 2)\n",
      "(8194, 2)\n"
     ]
    }
   ],
   "source": [
    "print(history.shape)\n",
    "print(more_history.shape)\n"
   ]
  },
  {
   "cell_type": "code",
   "execution_count": 43,
   "metadata": {},
   "outputs": [
    {
     "data": {
      "text/plain": [
       "str"
      ]
     },
     "execution_count": 43,
     "metadata": {},
     "output_type": "execute_result"
    }
   ],
   "source": [
    "type(more_history['date'])"
   ]
  },
  {
   "cell_type": "code",
   "execution_count": 44,
   "metadata": {},
   "outputs": [],
   "source": [
    "more_history['date'] = pd.to_datetime(more_history['date'])"
   ]
  },
  {
   "cell_type": "code",
   "execution_count": 46,
   "metadata": {},
   "outputs": [
    {
     "data": {
      "text/plain": [
       "Timestamp('2020-05-13 00:00:00')"
      ]
     },
     "execution_count": 46,
     "metadata": {},
     "output_type": "execute_result"
    }
   ],
   "source": [
    "more_history['date'][0]"
   ]
  },
  {
   "cell_type": "code",
   "execution_count": null,
   "metadata": {},
   "outputs": [],
   "source": []
  },
  {
   "cell_type": "code",
   "execution_count": 34,
   "metadata": {},
   "outputs": [],
   "source": [
    "history['date'] = pd.to_datetime(history['date'])\n",
    "more_history['date'] = pd.to_datetime(more_history['date'])"
   ]
  },
  {
   "cell_type": "code",
   "execution_count": 47,
   "metadata": {},
   "outputs": [],
   "source": [
    "# history['instances']=history.groupby('date').transform('count')\n",
    "more_history['instances']=more_history.groupby('date').transform('count')"
   ]
  },
  {
   "cell_type": "code",
   "execution_count": 17,
   "metadata": {},
   "outputs": [],
   "source": [
    "# history = history.loc[~history.index.duplicated(keep='first')]\n",
    "# more_history = more_history.loc[~more_history.index.duplicated(keep='first')]"
   ]
  },
  {
   "cell_type": "code",
   "execution_count": 49,
   "metadata": {},
   "outputs": [
    {
     "data": {
      "text/plain": [
       "pandas._libs.tslibs.timestamps.Timestamp"
      ]
     },
     "execution_count": 49,
     "metadata": {},
     "output_type": "execute_result"
    }
   ],
   "source": [
    "type(more_history['date'][0])"
   ]
  },
  {
   "cell_type": "code",
   "execution_count": 50,
   "metadata": {},
   "outputs": [],
   "source": [
    "more_history.set_index('date', inplace=True)"
   ]
  },
  {
   "cell_type": "code",
   "execution_count": 83,
   "metadata": {
    "scrolled": true
   },
   "outputs": [],
   "source": [
    "mon_hist = more_history.resample('M').sum()"
   ]
  },
  {
   "cell_type": "code",
   "execution_count": 89,
   "metadata": {},
   "outputs": [
    {
     "data": {
      "text/plain": [
       "<matplotlib.axes._subplots.AxesSubplot at 0x128058650>"
      ]
     },
     "execution_count": 89,
     "metadata": {},
     "output_type": "execute_result"
    },
    {
     "data": {
      "image/png": "[encoded data removed]",
      "text/plain": [
       "<Figure size 432x288 with 1 Axes>"
      ]
     },
     "metadata": {
      "needs_background": "light"
     },
     "output_type": "display_data"
    }
   ],
   "source": [
    "mon_hist[:'2019'].plot()"
   ]
  },
  {
   "cell_type": "code",
   "execution_count": 93,
   "metadata": {},
   "outputs": [
    {
     "data": {
      "text/plain": [
       "Test Stat                -4.214728\n",
       "P-Value                   0.000622\n",
       "# Lags                    0.000000\n",
       "# Observations          111.000000\n",
       "Critical Value (1%)      -3.490683\n",
       "Critical Value (5%)      -2.887952\n",
       "Critical Value (10%)     -2.580857\n",
       "dtype: float64"
      ]
     },
     "execution_count": 93,
     "metadata": {},
     "output_type": "execute_result"
    }
   ],
   "source": [
    "# When turned into a yearly interval, non-stationarity occurs\n",
    "# At Q, M, or \n",
    "dftest2(mon_hist[:'2019'])"
   ]
  },
  {
   "cell_type": "code",
   "execution_count": 95,
   "metadata": {},
   "outputs": [
    {
     "data": {
      "image/png": "[encoded data removed]",
      "text/plain": [
       "<Figure size 864x504 with 1 Axes>"
      ]
     },
     "metadata": {
      "needs_background": "light"
     },
     "output_type": "display_data"
    }
   ],
   "source": [
    "r_mean = mon_hist[:'2019'].rolling(window=12, center=False).mean()\n",
    "fig = plt.figure(figsize=(12,7))\n",
    "plt.plot(mon_hist[:'2019'], color='blue',label='original')\n",
    "plt.plot(r_mean, color='black', label='rolling mean')\n",
    "plt.legend(loc='best')\n",
    "plt.show(block=False)"
   ]
  },
  {
   "cell_type": "code",
   "execution_count": 61,
   "metadata": {},
   "outputs": [],
   "source": [
    "from statsmodels.tsa.stattools import adfuller"
   ]
  },
  {
   "cell_type": "code",
   "execution_count": 59,
   "metadata": {},
   "outputs": [],
   "source": [
    "def dftest2(data):\n",
    "    test = adfuller(data['instances'])\n",
    "    test_output = pd.Series(test[0:4], index=['Test Stat', 'P-Value', '# Lags', '# Observations'])\n",
    "    for key, value in test[4].items():\n",
    "        test_output['Critical Value (%s)' %key]=value\n",
    "    return(test_output)"
   ]
  },
  {
   "cell_type": "markdown",
   "metadata": {},
   "source": [
    "The data is stationary, not sure what this means for the future of this dataset.  \n",
    "Going to look into the Google Trends data again now that I have my VPN set up to prevent Google from blocking me."
   ]
  },
  {
   "cell_type": "code",
   "execution_count": 77,
   "metadata": {},
   "outputs": [
    {
     "name": "stdout",
     "output_type": "stream",
     "text": [
      "HTTPSConnectionPool(host='trends.google.com', port=443): Read timed out. (read timeout=5)\n"
     ]
    }
   ],
   "source": [
    "gt_1520 = pytrends.get_historical_interest(['urban farm'], year_start=2015, geo='US',\n",
    "                                           year_end=2019, month_end=12)"
   ]
  },
  {
   "cell_type": "code",
   "execution_count": null,
   "metadata": {},
   "outputs": [],
   "source": [
    "gt_1520 = pytrends.get_historical_interest(['urban farm'], year_start=2015, geo='US',\n",
    "                                           year_end=2019, month_end=12)"
   ]
  },
  {
   "cell_type": "code",
   "execution_count": 78,
   "metadata": {
    "scrolled": false
   },
   "outputs": [
    {
     "data": {
      "text/html": [
       "<div>\n",
       "<style scoped>\n",
       "    .dataframe tbody tr th:only-of-type {\n",
       "        vertical-align: middle;\n",
       "    }\n",
       "\n",
       "    .dataframe tbody tr th {\n",
       "        vertical-align: top;\n",
       "    }\n",
       "\n",
       "    .dataframe thead th {\n",
       "        text-align: right;\n",
       "    }\n",
       "</style>\n",
       "<table border=\"1\" class=\"dataframe\">\n",
       "  <thead>\n",
       "    <tr style=\"text-align: right;\">\n",
       "      <th></th>\n",
       "      <th>urban farm</th>\n",
       "      <th>isPartial</th>\n",
       "    </tr>\n",
       "    <tr>\n",
       "      <th>date</th>\n",
       "      <th></th>\n",
       "      <th></th>\n",
       "    </tr>\n",
       "  </thead>\n",
       "  <tbody>\n",
       "    <tr>\n",
       "      <th>2015-01-01 00:00:00</th>\n",
       "      <td>35</td>\n",
       "      <td>False</td>\n",
       "    </tr>\n",
       "    <tr>\n",
       "      <th>2015-01-01 01:00:00</th>\n",
       "      <td>83</td>\n",
       "      <td>False</td>\n",
       "    </tr>\n",
       "    <tr>\n",
       "      <th>2015-01-01 02:00:00</th>\n",
       "      <td>38</td>\n",
       "      <td>False</td>\n",
       "    </tr>\n",
       "    <tr>\n",
       "      <th>2015-01-01 03:00:00</th>\n",
       "      <td>28</td>\n",
       "      <td>False</td>\n",
       "    </tr>\n",
       "    <tr>\n",
       "      <th>2015-01-01 04:00:00</th>\n",
       "      <td>15</td>\n",
       "      <td>False</td>\n",
       "    </tr>\n",
       "    <tr>\n",
       "      <th>...</th>\n",
       "      <td>...</td>\n",
       "      <td>...</td>\n",
       "    </tr>\n",
       "    <tr>\n",
       "      <th>2019-11-30 20:00:00</th>\n",
       "      <td>45</td>\n",
       "      <td>False</td>\n",
       "    </tr>\n",
       "    <tr>\n",
       "      <th>2019-11-30 21:00:00</th>\n",
       "      <td>34</td>\n",
       "      <td>False</td>\n",
       "    </tr>\n",
       "    <tr>\n",
       "      <th>2019-11-30 22:00:00</th>\n",
       "      <td>38</td>\n",
       "      <td>False</td>\n",
       "    </tr>\n",
       "    <tr>\n",
       "      <th>2019-11-30 23:00:00</th>\n",
       "      <td>55</td>\n",
       "      <td>False</td>\n",
       "    </tr>\n",
       "    <tr>\n",
       "      <th>2019-12-01 00:00:00</th>\n",
       "      <td>31</td>\n",
       "      <td>False</td>\n",
       "    </tr>\n",
       "  </tbody>\n",
       "</table>\n",
       "<p>43168 rows × 2 columns</p>\n",
       "</div>"
      ],
      "text/plain": [
       "                     urban farm  isPartial\n",
       "date                                      \n",
       "2015-01-01 00:00:00          35      False\n",
       "2015-01-01 01:00:00          83      False\n",
       "2015-01-01 02:00:00          38      False\n",
       "2015-01-01 03:00:00          28      False\n",
       "2015-01-01 04:00:00          15      False\n",
       "...                         ...        ...\n",
       "2019-11-30 20:00:00          45      False\n",
       "2019-11-30 21:00:00          34      False\n",
       "2019-11-30 22:00:00          38      False\n",
       "2019-11-30 23:00:00          55      False\n",
       "2019-12-01 00:00:00          31      False\n",
       "\n",
       "[43168 rows x 2 columns]"
      ]
     },
     "execution_count": 78,
     "metadata": {},
     "output_type": "execute_result"
    }
   ],
   "source": [
    "# Captured almost all of the data I wanted\n",
    "gt_1520"
   ]
  },
  {
   "cell_type": "code",
   "execution_count": 81,
   "metadata": {},
   "outputs": [],
   "source": [
    "# Saving this data, looks good\n",
    "gt_1520.to_csv('gt_1520.csv')"
   ]
  },
  {
   "cell_type": "code",
   "execution_count": 79,
   "metadata": {
    "scrolled": true
   },
   "outputs": [
    {
     "name": "stdout",
     "output_type": "stream",
     "text": [
      "The request failed: Google returned a response with code 429.\n",
      "The request failed: Google returned a response with code 429.\n",
      "The request failed: Google returned a response with code 429.\n",
      "The request failed: Google returned a response with code 429.\n",
      "The request failed: Google returned a response with code 429.\n",
      "The request failed: Google returned a response with code 429.\n",
      "The request failed: Google returned a response with code 429.\n",
      "The request failed: Google returned a response with code 429.\n",
      "The request failed: Google returned a response with code 429.\n",
      "The request failed: Google returned a response with code 429.\n",
      "The request failed: Google returned a response with code 429.\n",
      "The request failed: Google returned a response with code 429.\n",
      "The request failed: Google returned a response with code 429.\n",
      "The request failed: Google returned a response with code 429.\n",
      "The request failed: Google returned a response with code 429.\n",
      "The request failed: Google returned a response with code 429.\n",
      "The request failed: Google returned a response with code 429.\n",
      "The request failed: Google returned a response with code 429.\n",
      "The request failed: Google returned a response with code 429.\n",
      "The request failed: Google returned a response with code 429.\n",
      "The request failed: Google returned a response with code 429.\n",
      "The request failed: Google returned a response with code 429.\n",
      "The request failed: Google returned a response with code 429.\n",
      "The request failed: Google returned a response with code 429.\n",
      "The request failed: Google returned a response with code 429.\n",
      "The request failed: Google returned a response with code 429.\n",
      "The request failed: Google returned a response with code 429.\n",
      "The request failed: Google returned a response with code 429.\n",
      "The request failed: Google returned a response with code 429.\n",
      "The request failed: Google returned a response with code 429.\n",
      "The request failed: Google returned a response with code 429.\n",
      "The request failed: Google returned a response with code 429.\n",
      "The request failed: Google returned a response with code 429.\n",
      "The request failed: Google returned a response with code 429.\n",
      "The request failed: Google returned a response with code 429.\n",
      "The request failed: Google returned a response with code 429.\n",
      "The request failed: Google returned a response with code 429.\n",
      "The request failed: Google returned a response with code 429.\n",
      "The request failed: Google returned a response with code 429.\n",
      "The request failed: Google returned a response with code 429.\n",
      "The request failed: Google returned a response with code 429.\n",
      "The request failed: Google returned a response with code 429.\n",
      "The request failed: Google returned a response with code 429.\n",
      "The request failed: Google returned a response with code 429.\n",
      "The request failed: Google returned a response with code 429.\n",
      "The request failed: Google returned a response with code 429.\n",
      "The request failed: Google returned a response with code 429.\n",
      "The request failed: Google returned a response with code 429.\n",
      "The request failed: Google returned a response with code 429.\n",
      "The request failed: Google returned a response with code 429.\n",
      "The request failed: Google returned a response with code 429.\n",
      "The request failed: Google returned a response with code 429.\n",
      "The request failed: Google returned a response with code 429.\n",
      "The request failed: Google returned a response with code 429.\n",
      "The request failed: Google returned a response with code 429.\n",
      "The request failed: Google returned a response with code 429.\n",
      "The request failed: Google returned a response with code 429.\n",
      "The request failed: Google returned a response with code 429.\n",
      "The request failed: Google returned a response with code 429.\n",
      "The request failed: Google returned a response with code 429.\n",
      "The request failed: Google returned a response with code 429.\n",
      "The request failed: Google returned a response with code 429.\n",
      "The request failed: Google returned a response with code 429.\n",
      "The request failed: Google returned a response with code 429.\n",
      "The request failed: Google returned a response with code 429.\n",
      "The request failed: Google returned a response with code 429.\n",
      "The request failed: Google returned a response with code 429.\n",
      "The request failed: Google returned a response with code 429.\n",
      "The request failed: Google returned a response with code 429.\n",
      "The request failed: Google returned a response with code 429.\n",
      "The request failed: Google returned a response with code 429.\n",
      "The request failed: Google returned a response with code 429.\n",
      "The request failed: Google returned a response with code 429.\n",
      "The request failed: Google returned a response with code 429.\n",
      "The request failed: Google returned a response with code 429.\n",
      "The request failed: Google returned a response with code 429.\n",
      "The request failed: Google returned a response with code 429.\n",
      "The request failed: Google returned a response with code 429.\n",
      "The request failed: Google returned a response with code 429.\n",
      "The request failed: Google returned a response with code 429.\n",
      "The request failed: Google returned a response with code 429.\n",
      "The request failed: Google returned a response with code 429.\n",
      "The request failed: Google returned a response with code 429.\n",
      "The request failed: Google returned a response with code 429.\n",
      "The request failed: Google returned a response with code 429.\n",
      "The request failed: Google returned a response with code 429.\n",
      "The request failed: Google returned a response with code 429.\n",
      "The request failed: Google returned a response with code 429.\n",
      "The request failed: Google returned a response with code 429.\n",
      "The request failed: Google returned a response with code 429.\n",
      "The request failed: Google returned a response with code 429.\n",
      "The request failed: Google returned a response with code 429.\n",
      "The request failed: Google returned a response with code 429.\n",
      "The request failed: Google returned a response with code 429.\n",
      "The request failed: Google returned a response with code 429.\n",
      "The request failed: Google returned a response with code 429.\n",
      "The request failed: Google returned a response with code 429.\n",
      "The request failed: Google returned a response with code 429.\n",
      "The request failed: Google returned a response with code 429.\n",
      "The request failed: Google returned a response with code 429.\n",
      "The request failed: Google returned a response with code 429.\n",
      "The request failed: Google returned a response with code 429.\n",
      "The request failed: Google returned a response with code 429.\n",
      "The request failed: Google returned a response with code 429.\n",
      "The request failed: Google returned a response with code 429.\n",
      "The request failed: Google returned a response with code 429.\n",
      "The request failed: Google returned a response with code 429.\n",
      "The request failed: Google returned a response with code 429.\n",
      "The request failed: Google returned a response with code 429.\n",
      "The request failed: Google returned a response with code 429.\n",
      "The request failed: Google returned a response with code 429.\n",
      "The request failed: Google returned a response with code 429.\n",
      "The request failed: Google returned a response with code 429.\n",
      "The request failed: Google returned a response with code 429.\n",
      "The request failed: Google returned a response with code 429.\n",
      "The request failed: Google returned a response with code 429.\n",
      "The request failed: Google returned a response with code 429.\n",
      "The request failed: Google returned a response with code 429.\n",
      "The request failed: Google returned a response with code 429.\n",
      "The request failed: Google returned a response with code 429.\n",
      "The request failed: Google returned a response with code 429.\n",
      "The request failed: Google returned a response with code 429.\n",
      "The request failed: Google returned a response with code 429.\n",
      "The request failed: Google returned a response with code 429.\n",
      "The request failed: Google returned a response with code 429.\n",
      "The request failed: Google returned a response with code 429.\n",
      "The request failed: Google returned a response with code 429.\n",
      "The request failed: Google returned a response with code 429.\n",
      "The request failed: Google returned a response with code 429.\n",
      "The request failed: Google returned a response with code 429.\n",
      "The request failed: Google returned a response with code 429.\n",
      "The request failed: Google returned a response with code 429.\n",
      "The request failed: Google returned a response with code 429.\n",
      "The request failed: Google returned a response with code 429.\n"
     ]
    },
    {
     "name": "stdout",
     "output_type": "stream",
     "text": [
      "The request failed: Google returned a response with code 429.\n",
      "The request failed: Google returned a response with code 429.\n",
      "The request failed: Google returned a response with code 429.\n",
      "The request failed: Google returned a response with code 429.\n",
      "The request failed: Google returned a response with code 429.\n",
      "The request failed: Google returned a response with code 429.\n",
      "The request failed: Google returned a response with code 429.\n",
      "The request failed: Google returned a response with code 429.\n",
      "The request failed: Google returned a response with code 429.\n",
      "The request failed: Google returned a response with code 429.\n",
      "The request failed: Google returned a response with code 429.\n",
      "The request failed: Google returned a response with code 429.\n",
      "The request failed: Google returned a response with code 429.\n",
      "The request failed: Google returned a response with code 429.\n",
      "The request failed: Google returned a response with code 429.\n",
      "The request failed: Google returned a response with code 429.\n",
      "The request failed: Google returned a response with code 429.\n",
      "The request failed: Google returned a response with code 429.\n",
      "The request failed: Google returned a response with code 429.\n",
      "The request failed: Google returned a response with code 429.\n",
      "The request failed: Google returned a response with code 429.\n",
      "The request failed: Google returned a response with code 429.\n",
      "The request failed: Google returned a response with code 429.\n",
      "The request failed: Google returned a response with code 429.\n",
      "The request failed: Google returned a response with code 429.\n",
      "The request failed: Google returned a response with code 429.\n",
      "The request failed: Google returned a response with code 429.\n",
      "The request failed: Google returned a response with code 429.\n",
      "The request failed: Google returned a response with code 429.\n",
      "The request failed: Google returned a response with code 429.\n",
      "The request failed: Google returned a response with code 429.\n",
      "The request failed: Google returned a response with code 429.\n",
      "The request failed: Google returned a response with code 429.\n",
      "The request failed: Google returned a response with code 429.\n",
      "The request failed: Google returned a response with code 429.\n",
      "The request failed: Google returned a response with code 429.\n",
      "The request failed: Google returned a response with code 429.\n",
      "The request failed: Google returned a response with code 429.\n",
      "The request failed: Google returned a response with code 429.\n",
      "The request failed: Google returned a response with code 429.\n",
      "The request failed: Google returned a response with code 429.\n",
      "The request failed: Google returned a response with code 429.\n",
      "The request failed: Google returned a response with code 429.\n",
      "The request failed: Google returned a response with code 429.\n",
      "The request failed: Google returned a response with code 429.\n",
      "The request failed: Google returned a response with code 429.\n",
      "The request failed: Google returned a response with code 429.\n",
      "The request failed: Google returned a response with code 429.\n",
      "The request failed: Google returned a response with code 429.\n",
      "The request failed: Google returned a response with code 429.\n",
      "The request failed: Google returned a response with code 429.\n",
      "The request failed: Google returned a response with code 429.\n",
      "The request failed: Google returned a response with code 429.\n",
      "The request failed: Google returned a response with code 429.\n",
      "The request failed: Google returned a response with code 429.\n",
      "The request failed: Google returned a response with code 429.\n",
      "The request failed: Google returned a response with code 429.\n",
      "The request failed: Google returned a response with code 429.\n",
      "The request failed: Google returned a response with code 429.\n",
      "The request failed: Google returned a response with code 429.\n",
      "The request failed: Google returned a response with code 429.\n",
      "The request failed: Google returned a response with code 429.\n",
      "The request failed: Google returned a response with code 429.\n",
      "The request failed: Google returned a response with code 429.\n",
      "The request failed: Google returned a response with code 429.\n",
      "The request failed: Google returned a response with code 429.\n",
      "The request failed: Google returned a response with code 429.\n",
      "The request failed: Google returned a response with code 429.\n",
      "The request failed: Google returned a response with code 429.\n",
      "The request failed: Google returned a response with code 429.\n",
      "The request failed: Google returned a response with code 429.\n",
      "The request failed: Google returned a response with code 429.\n",
      "The request failed: Google returned a response with code 429.\n",
      "The request failed: Google returned a response with code 429.\n",
      "The request failed: Google returned a response with code 429.\n",
      "The request failed: Google returned a response with code 429.\n",
      "The request failed: Google returned a response with code 429.\n",
      "The request failed: Google returned a response with code 429.\n",
      "The request failed: Google returned a response with code 429.\n",
      "The request failed: Google returned a response with code 429.\n",
      "The request failed: Google returned a response with code 429.\n",
      "The request failed: Google returned a response with code 429.\n",
      "The request failed: Google returned a response with code 429.\n",
      "The request failed: Google returned a response with code 429.\n",
      "The request failed: Google returned a response with code 429.\n"
     ]
    }
   ],
   "source": [
    "## This failed to run but I can probably change my location on VPN to get it to run\n",
    "# gt_0914 = pytrends.get_historical_interest(['urban farm'], year_start=2009, geo='US',\n",
    "#                                            year_end=2014, month_end=12)"
   ]
  },
  {
   "cell_type": "code",
   "execution_count": null,
   "metadata": {},
   "outputs": [],
   "source": [
    "gt_0914 = pytrends.get_historical_interest(['urban farm'], year_start=2009, geo='US',\n",
    "                                           year_end=2014, month_end=12)"
   ]
  },
  {
   "cell_type": "code",
   "execution_count": 112,
   "metadata": {},
   "outputs": [
    {
     "data": {
      "text/plain": [
       "<matplotlib.axes._subplots.AxesSubplot at 0x12bde3d10>"
      ]
     },
     "execution_count": 112,
     "metadata": {},
     "output_type": "execute_result"
    },
    {
     "data": {
      "image/png": "[encoded data removed]",
      "text/plain": [
       "<Figure size 432x288 with 1 Axes>"
      ]
     },
     "metadata": {
      "needs_background": "light"
     },
     "output_type": "display_data"
    }
   ],
   "source": [
    "gt_1520['2015':'2018'].resample('M').sum().plot()"
   ]
  },
  {
   "cell_type": "code",
   "execution_count": 102,
   "metadata": {},
   "outputs": [],
   "source": [
    "def dftest3(data):\n",
    "    test = adfuller(data['urban farm'])\n",
    "    test_output = pd.Series(test[0:4], index=['Test Stat', 'P-Value', '# Lags', '# Observations'])\n",
    "    for key, value in test[4].items():\n",
    "        test_output['Critical Value (%s)' %key]=value\n",
    "    return(test_output)"
   ]
  },
  {
   "cell_type": "code",
   "execution_count": 111,
   "metadata": {},
   "outputs": [
    {
     "data": {
      "text/plain": [
       "Test Stat               -2.758549\n",
       "P-Value                  0.064443\n",
       "# Lags                   4.000000\n",
       "# Observations          43.000000\n",
       "Critical Value (1%)     -3.592504\n",
       "Critical Value (5%)     -2.931550\n",
       "Critical Value (10%)    -2.604066\n",
       "dtype: float64"
      ]
     },
     "execution_count": 111,
     "metadata": {},
     "output_type": "execute_result"
    }
   ],
   "source": [
    "dftest3(gt_1520['2015':'2018'].resample('M').sum())"
   ]
  },
  {
   "cell_type": "code",
   "execution_count": 113,
   "metadata": {},
   "outputs": [],
   "source": [
    "ind_farm = pd.read_csv('ind_farm.csv')"
   ]
  },
  {
   "cell_type": "code",
   "execution_count": 116,
   "metadata": {},
   "outputs": [],
   "source": [
    "ind_farm = ind_farm[['date', 'tweet']]\n",
    "ind_farm['date'] = pd.to_datetime(ind_farm['date'])\n",
    "ind_farm.set_index('date', inplace=True)"
   ]
  },
  {
   "cell_type": "code",
   "execution_count": 117,
   "metadata": {},
   "outputs": [
    {
     "data": {
      "text/html": [
       "<div>\n",
       "<style scoped>\n",
       "    .dataframe tbody tr th:only-of-type {\n",
       "        vertical-align: middle;\n",
       "    }\n",
       "\n",
       "    .dataframe tbody tr th {\n",
       "        vertical-align: top;\n",
       "    }\n",
       "\n",
       "    .dataframe thead th {\n",
       "        text-align: right;\n",
       "    }\n",
       "</style>\n",
       "<table border=\"1\" class=\"dataframe\">\n",
       "  <thead>\n",
       "    <tr style=\"text-align: right;\">\n",
       "      <th></th>\n",
       "      <th>tweet</th>\n",
       "    </tr>\n",
       "    <tr>\n",
       "      <th>date</th>\n",
       "      <th></th>\n",
       "    </tr>\n",
       "  </thead>\n",
       "  <tbody>\n",
       "    <tr>\n",
       "      <th>2020-05-14</th>\n",
       "      <td>No indoor plumbing yet?  Sounds like my Momma’...</td>\n",
       "    </tr>\n",
       "    <tr>\n",
       "      <th>2020-05-14</th>\n",
       "      <td>Learn how to grow weed &gt;&gt;  http://www.howtogro...</td>\n",
       "    </tr>\n",
       "    <tr>\n",
       "      <th>2020-05-13</th>\n",
       "      <td>We have a little flower and pre-rolls left fro...</td>\n",
       "    </tr>\n",
       "    <tr>\n",
       "      <th>2020-05-13</th>\n",
       "      <td>I think once these sit vacant long enough, the...</td>\n",
       "    </tr>\n",
       "    <tr>\n",
       "      <th>2020-05-13</th>\n",
       "      <td>L.E. Huck &amp; Sons Farm Market in Marietta has r...</td>\n",
       "    </tr>\n",
       "    <tr>\n",
       "      <th>...</th>\n",
       "      <td>...</td>\n",
       "    </tr>\n",
       "    <tr>\n",
       "      <th>2010-10-05</th>\n",
       "      <td>$10 for $20 Worth of Fresh Local Produce and P...</td>\n",
       "    </tr>\n",
       "    <tr>\n",
       "      <th>2010-10-05</th>\n",
       "      <td>$10 for $20 Worth of Fresh Local Produce and P...</td>\n",
       "    </tr>\n",
       "    <tr>\n",
       "      <th>2010-10-05</th>\n",
       "      <td>$10 for $20 Worth of Fresh Local Produce and P...</td>\n",
       "    </tr>\n",
       "    <tr>\n",
       "      <th>2010-10-05</th>\n",
       "      <td>$10 for $20 Worth of Fresh Local Produce and P...</td>\n",
       "    </tr>\n",
       "    <tr>\n",
       "      <th>2010-09-22</th>\n",
       "      <td>SAPD busts meth lab, indoor pot farm  http://b...</td>\n",
       "    </tr>\n",
       "  </tbody>\n",
       "</table>\n",
       "<p>621 rows × 1 columns</p>\n",
       "</div>"
      ],
      "text/plain": [
       "                                                        tweet\n",
       "date                                                         \n",
       "2020-05-14  No indoor plumbing yet?  Sounds like my Momma’...\n",
       "2020-05-14  Learn how to grow weed >>  http://www.howtogro...\n",
       "2020-05-13  We have a little flower and pre-rolls left fro...\n",
       "2020-05-13  I think once these sit vacant long enough, the...\n",
       "2020-05-13  L.E. Huck & Sons Farm Market in Marietta has r...\n",
       "...                                                       ...\n",
       "2010-10-05  $10 for $20 Worth of Fresh Local Produce and P...\n",
       "2010-10-05  $10 for $20 Worth of Fresh Local Produce and P...\n",
       "2010-10-05  $10 for $20 Worth of Fresh Local Produce and P...\n",
       "2010-10-05  $10 for $20 Worth of Fresh Local Produce and P...\n",
       "2010-09-22  SAPD busts meth lab, indoor pot farm  http://b...\n",
       "\n",
       "[621 rows x 1 columns]"
      ]
     },
     "execution_count": 117,
     "metadata": {},
     "output_type": "execute_result"
    }
   ],
   "source": [
    "ind_farm"
   ]
  },
  {
   "cell_type": "code",
   "execution_count": 118,
   "metadata": {},
   "outputs": [],
   "source": [
    "ind_farm['instances']=ind_farm.groupby('date').transform('count')"
   ]
  },
  {
   "cell_type": "code",
   "execution_count": 119,
   "metadata": {},
   "outputs": [
    {
     "data": {
      "text/html": [
       "<div>\n",
       "<style scoped>\n",
       "    .dataframe tbody tr th:only-of-type {\n",
       "        vertical-align: middle;\n",
       "    }\n",
       "\n",
       "    .dataframe tbody tr th {\n",
       "        vertical-align: top;\n",
       "    }\n",
       "\n",
       "    .dataframe thead th {\n",
       "        text-align: right;\n",
       "    }\n",
       "</style>\n",
       "<table border=\"1\" class=\"dataframe\">\n",
       "  <thead>\n",
       "    <tr style=\"text-align: right;\">\n",
       "      <th></th>\n",
       "      <th>tweet</th>\n",
       "      <th>instances</th>\n",
       "    </tr>\n",
       "    <tr>\n",
       "      <th>date</th>\n",
       "      <th></th>\n",
       "      <th></th>\n",
       "    </tr>\n",
       "  </thead>\n",
       "  <tbody>\n",
       "    <tr>\n",
       "      <th>2020-05-14</th>\n",
       "      <td>No indoor plumbing yet?  Sounds like my Momma’...</td>\n",
       "      <td>2</td>\n",
       "    </tr>\n",
       "    <tr>\n",
       "      <th>2020-05-14</th>\n",
       "      <td>Learn how to grow weed &gt;&gt;  http://www.howtogro...</td>\n",
       "      <td>2</td>\n",
       "    </tr>\n",
       "    <tr>\n",
       "      <th>2020-05-13</th>\n",
       "      <td>We have a little flower and pre-rolls left fro...</td>\n",
       "      <td>14</td>\n",
       "    </tr>\n",
       "    <tr>\n",
       "      <th>2020-05-13</th>\n",
       "      <td>I think once these sit vacant long enough, the...</td>\n",
       "      <td>14</td>\n",
       "    </tr>\n",
       "    <tr>\n",
       "      <th>2020-05-13</th>\n",
       "      <td>L.E. Huck &amp; Sons Farm Market in Marietta has r...</td>\n",
       "      <td>14</td>\n",
       "    </tr>\n",
       "    <tr>\n",
       "      <th>...</th>\n",
       "      <td>...</td>\n",
       "      <td>...</td>\n",
       "    </tr>\n",
       "    <tr>\n",
       "      <th>2010-10-05</th>\n",
       "      <td>$10 for $20 Worth of Fresh Local Produce and P...</td>\n",
       "      <td>41</td>\n",
       "    </tr>\n",
       "    <tr>\n",
       "      <th>2010-10-05</th>\n",
       "      <td>$10 for $20 Worth of Fresh Local Produce and P...</td>\n",
       "      <td>41</td>\n",
       "    </tr>\n",
       "    <tr>\n",
       "      <th>2010-10-05</th>\n",
       "      <td>$10 for $20 Worth of Fresh Local Produce and P...</td>\n",
       "      <td>41</td>\n",
       "    </tr>\n",
       "    <tr>\n",
       "      <th>2010-10-05</th>\n",
       "      <td>$10 for $20 Worth of Fresh Local Produce and P...</td>\n",
       "      <td>41</td>\n",
       "    </tr>\n",
       "    <tr>\n",
       "      <th>2010-09-22</th>\n",
       "      <td>SAPD busts meth lab, indoor pot farm  http://b...</td>\n",
       "      <td>1</td>\n",
       "    </tr>\n",
       "  </tbody>\n",
       "</table>\n",
       "<p>621 rows × 2 columns</p>\n",
       "</div>"
      ],
      "text/plain": [
       "                                                        tweet  instances\n",
       "date                                                                    \n",
       "2020-05-14  No indoor plumbing yet?  Sounds like my Momma’...          2\n",
       "2020-05-14  Learn how to grow weed >>  http://www.howtogro...          2\n",
       "2020-05-13  We have a little flower and pre-rolls left fro...         14\n",
       "2020-05-13  I think once these sit vacant long enough, the...         14\n",
       "2020-05-13  L.E. Huck & Sons Farm Market in Marietta has r...         14\n",
       "...                                                       ...        ...\n",
       "2010-10-05  $10 for $20 Worth of Fresh Local Produce and P...         41\n",
       "2010-10-05  $10 for $20 Worth of Fresh Local Produce and P...         41\n",
       "2010-10-05  $10 for $20 Worth of Fresh Local Produce and P...         41\n",
       "2010-10-05  $10 for $20 Worth of Fresh Local Produce and P...         41\n",
       "2010-09-22  SAPD busts meth lab, indoor pot farm  http://b...          1\n",
       "\n",
       "[621 rows x 2 columns]"
      ]
     },
     "execution_count": 119,
     "metadata": {},
     "output_type": "execute_result"
    }
   ],
   "source": [
    "ind_farm"
   ]
  },
  {
   "cell_type": "code",
   "execution_count": 120,
   "metadata": {},
   "outputs": [],
   "source": [
    "ind_farm.drop(columns=['tweet'], axis=1, inplace=True)"
   ]
  },
  {
   "cell_type": "code",
   "execution_count": 121,
   "metadata": {},
   "outputs": [],
   "source": [
    "ind_farm = ind_farm.loc[~ind_farm.index.duplicated(keep='first')]"
   ]
  },
  {
   "cell_type": "code",
   "execution_count": 141,
   "metadata": {},
   "outputs": [
    {
     "data": {
      "text/plain": [
       "<matplotlib.axes._subplots.AxesSubplot at 0x127f6f350>"
      ]
     },
     "execution_count": 141,
     "metadata": {},
     "output_type": "execute_result"
    },
    {
     "data": {
      "image/png": "[encoded data removed]",
      "text/plain": [
       "<Figure size 432x288 with 1 Axes>"
      ]
     },
     "metadata": {
      "needs_background": "light"
     },
     "output_type": "display_data"
    }
   ],
   "source": [
    "ind_farm['2018':'2011'].resample('M').sum().plot()"
   ]
  },
  {
   "cell_type": "code",
   "execution_count": 136,
   "metadata": {},
   "outputs": [
    {
     "data": {
      "text/html": [
       "<div>\n",
       "<style scoped>\n",
       "    .dataframe tbody tr th:only-of-type {\n",
       "        vertical-align: middle;\n",
       "    }\n",
       "\n",
       "    .dataframe tbody tr th {\n",
       "        vertical-align: top;\n",
       "    }\n",
       "\n",
       "    .dataframe thead th {\n",
       "        text-align: right;\n",
       "    }\n",
       "</style>\n",
       "<table border=\"1\" class=\"dataframe\">\n",
       "  <thead>\n",
       "    <tr style=\"text-align: right;\">\n",
       "      <th></th>\n",
       "      <th>instances</th>\n",
       "    </tr>\n",
       "    <tr>\n",
       "      <th>date</th>\n",
       "      <th></th>\n",
       "    </tr>\n",
       "  </thead>\n",
       "  <tbody>\n",
       "    <tr>\n",
       "      <th>2017-11-29</th>\n",
       "      <td>1</td>\n",
       "    </tr>\n",
       "    <tr>\n",
       "      <th>2017-11-18</th>\n",
       "      <td>1</td>\n",
       "    </tr>\n",
       "    <tr>\n",
       "      <th>2017-11-12</th>\n",
       "      <td>1</td>\n",
       "    </tr>\n",
       "    <tr>\n",
       "      <th>2017-10-21</th>\n",
       "      <td>1</td>\n",
       "    </tr>\n",
       "    <tr>\n",
       "      <th>2017-09-30</th>\n",
       "      <td>2</td>\n",
       "    </tr>\n",
       "    <tr>\n",
       "      <th>2017-08-25</th>\n",
       "      <td>1</td>\n",
       "    </tr>\n",
       "    <tr>\n",
       "      <th>2017-08-10</th>\n",
       "      <td>1</td>\n",
       "    </tr>\n",
       "    <tr>\n",
       "      <th>2017-05-27</th>\n",
       "      <td>1</td>\n",
       "    </tr>\n",
       "    <tr>\n",
       "      <th>2017-04-27</th>\n",
       "      <td>1</td>\n",
       "    </tr>\n",
       "    <tr>\n",
       "      <th>2017-04-03</th>\n",
       "      <td>1</td>\n",
       "    </tr>\n",
       "    <tr>\n",
       "      <th>2017-03-30</th>\n",
       "      <td>1</td>\n",
       "    </tr>\n",
       "    <tr>\n",
       "      <th>2017-03-12</th>\n",
       "      <td>1</td>\n",
       "    </tr>\n",
       "    <tr>\n",
       "      <th>2017-03-08</th>\n",
       "      <td>1</td>\n",
       "    </tr>\n",
       "    <tr>\n",
       "      <th>2017-03-03</th>\n",
       "      <td>1</td>\n",
       "    </tr>\n",
       "    <tr>\n",
       "      <th>2017-01-10</th>\n",
       "      <td>1</td>\n",
       "    </tr>\n",
       "    <tr>\n",
       "      <th>2017-01-05</th>\n",
       "      <td>1</td>\n",
       "    </tr>\n",
       "  </tbody>\n",
       "</table>\n",
       "</div>"
      ],
      "text/plain": [
       "            instances\n",
       "date                 \n",
       "2017-11-29          1\n",
       "2017-11-18          1\n",
       "2017-11-12          1\n",
       "2017-10-21          1\n",
       "2017-09-30          2\n",
       "2017-08-25          1\n",
       "2017-08-10          1\n",
       "2017-05-27          1\n",
       "2017-04-27          1\n",
       "2017-04-03          1\n",
       "2017-03-30          1\n",
       "2017-03-12          1\n",
       "2017-03-08          1\n",
       "2017-03-03          1\n",
       "2017-01-10          1\n",
       "2017-01-05          1"
      ]
     },
     "execution_count": 136,
     "metadata": {},
     "output_type": "execute_result"
    }
   ],
   "source": [
    "ind_farm['2017']"
   ]
  },
  {
   "cell_type": "code",
   "execution_count": 126,
   "metadata": {},
   "outputs": [
    {
     "data": {
      "text/plain": [
       "Test Stat                 1.708256\n",
       "P-Value                   0.998149\n",
       "# Lags                   14.000000\n",
       "# Observations          489.000000\n",
       "Critical Value (1%)      -3.443794\n",
       "Critical Value (5%)      -2.867469\n",
       "Critical Value (10%)     -2.569928\n",
       "dtype: float64"
      ]
     },
     "execution_count": 126,
     "metadata": {},
     "output_type": "execute_result"
    }
   ],
   "source": [
    "dftest2(ind_farm.resample('W').sum())"
   ]
  },
  {
   "cell_type": "code",
   "execution_count": 137,
   "metadata": {},
   "outputs": [],
   "source": [
    "vert_farms = pd.read_csv('vert_farm.csv')"
   ]
  },
  {
   "cell_type": "code",
   "execution_count": 142,
   "metadata": {},
   "outputs": [],
   "source": [
    "urfa = pd.read_csv('urfa.csv')"
   ]
  },
  {
   "cell_type": "code",
   "execution_count": 146,
   "metadata": {},
   "outputs": [
    {
     "name": "stderr",
     "output_type": "stream",
     "text": [
      "functions2.py:186: SettingWithCopyWarning: \n",
      "A value is trying to be set on a copy of a slice from a DataFrame.\n",
      "Try using .loc[row_indexer,col_indexer] = value instead\n",
      "\n",
      "See the caveats in the documentation: https://pandas.pydata.org/pandas-docs/stable/user_guide/indexing.html#returning-a-view-versus-a-copy\n",
      "  data['date'] = pd.to_datetime(data['date'])\n",
      "functions2.py:188: SettingWithCopyWarning: \n",
      "A value is trying to be set on a copy of a slice from a DataFrame.\n",
      "Try using .loc[row_indexer,col_indexer] = value instead\n",
      "\n",
      "See the caveats in the documentation: https://pandas.pydata.org/pandas-docs/stable/user_guide/indexing.html#returning-a-view-versus-a-copy\n",
      "  data['instances']=data.groupby('date').transform('count')\n",
      "/opt/anaconda3/lib/python3.7/site-packages/pandas/core/frame.py:3997: SettingWithCopyWarning: \n",
      "A value is trying to be set on a copy of a slice from a DataFrame\n",
      "\n",
      "See the caveats in the documentation: https://pandas.pydata.org/pandas-docs/stable/user_guide/indexing.html#returning-a-view-versus-a-copy\n",
      "  errors=errors,\n"
     ]
    }
   ],
   "source": [
    "urfa = process_tweets(urfa)"
   ]
  },
  {
   "cell_type": "code",
   "execution_count": 156,
   "metadata": {},
   "outputs": [
    {
     "data": {
      "text/plain": [
       "<matplotlib.axes._subplots.AxesSubplot at 0x128d4a390>"
      ]
     },
     "execution_count": 156,
     "metadata": {},
     "output_type": "execute_result"
    },
    {
     "data": {
      "image/png": "[encoded data removed]",
      "text/plain": [
       "<Figure size 432x288 with 1 Axes>"
      ]
     },
     "metadata": {
      "needs_background": "light"
     },
     "output_type": "display_data"
    }
   ],
   "source": [
    "urfa['2015':'2010'].resample('M').sum().plot()"
   ]
  },
  {
   "cell_type": "code",
   "execution_count": 157,
   "metadata": {},
   "outputs": [
    {
     "data": {
      "text/plain": [
       "Test Stat                -2.422020\n",
       "P-Value                   0.135618\n",
       "# Lags                   12.000000\n",
       "# Observations          265.000000\n",
       "Critical Value (1%)      -3.455270\n",
       "Critical Value (5%)      -2.872509\n",
       "Critical Value (10%)     -2.572615\n",
       "dtype: float64"
      ]
     },
     "execution_count": 157,
     "metadata": {},
     "output_type": "execute_result"
    }
   ],
   "source": [
    "dftest2(urfa['2015':'2010'].resample('W').sum())"
   ]
  },
  {
   "cell_type": "code",
   "execution_count": 163,
   "metadata": {},
   "outputs": [
    {
     "data": {
      "text/plain": [
       "(<Figure size 1152x216 with 1 Axes>, <Figure size 1152x216 with 1 Axes>)"
      ]
     },
     "execution_count": 163,
     "metadata": {},
     "output_type": "execute_result"
    },
    {
     "data": {
      "image/png": "[encoded data removed]",
      "text/plain": [
       "<Figure size 1152x216 with 1 Axes>"
      ]
     },
     "metadata": {},
     "output_type": "display_data"
    },
    {
     "data": {
      "image/png": "[encoded data removed]",
      "text/plain": [
       "<Figure size 1152x216 with 1 Axes>"
      ]
     },
     "metadata": {},
     "output_type": "display_data"
    }
   ],
   "source": [
    "auto_corrs(urfa.resample('M').sum(), 'Urban Farming')"
   ]
  },
  {
   "cell_type": "code",
   "execution_count": null,
   "metadata": {},
   "outputs": [],
   "source": []
  }
 ],
 "metadata": {
  "kernelspec": {
   "display_name": "Python 3",
   "language": "python",
   "name": "python3"
  },
  "language_info": {
   "codemirror_mode": {
    "name": "ipython",
    "version": 3
   },
   "file_extension": ".py",
   "mimetype": "text/x-python",
   "name": "python",
   "nbconvert_exporter": "python",
   "pygments_lexer": "ipython3",
   "version": "3.7.4"
  }
 },
 "nbformat": 4,
 "nbformat_minor": 2
}
